{
 "cells": [
  {
   "cell_type": "markdown",
   "id": "ac81942f",
   "metadata": {},
   "source": [
    "# Lists\n",
    "The list is a most versatile data type available in Python which can be written as a list of comma-separated values (items) between square brackets. Important thing about a list is that items in a list need not be of the same type"
   ]
  },
  {
   "cell_type": "markdown",
   "id": "0e2c3484",
   "metadata": {},
   "source": [
    "# Accessing lists"
   ]
  },
  {
   "cell_type": "code",
   "execution_count": 1,
   "id": "83691493",
   "metadata": {},
   "outputs": [
    {
     "name": "stdout",
     "output_type": "stream",
     "text": [
      "list_1[0]:  Statistics\n",
      "list_2[1:5]:  ['b', 1, 2, 3]\n",
      "list_2[2:4]:  [1, 2]\n"
     ]
    }
   ],
   "source": [
    "list_1 = ['Statistics', 'Programming', 2018, 2019,2020,2021, 2022,2023];\n",
    "list_2 = ['a', 'b', 1, 2, 3, 4, 5, 6, 7, 9];\n",
    "\n",
    "# Accessing values in lists\n",
    "print('list_1[0]: ', list_1[0])\n",
    "print('list_2[1:5]: ', list_2[1:5])\n",
    "print('list_2[2:4]: ', list_2[2:4])"
   ]
  },
  {
   "cell_type": "markdown",
   "id": "75e5959f",
   "metadata": {},
   "source": [
    "# Adding new value to list"
   ]
  },
  {
   "cell_type": "code",
   "execution_count": 2,
   "id": "45a6e011",
   "metadata": {},
   "outputs": [
    {
     "name": "stdout",
     "output_type": "stream",
     "text": [
      "list_2 values:  ['a', 'b', 1, 2, 3, 4, 5, 6, 7, 9]\n",
      "list_2 values post append:  ['a', 'b', 1, 2, 3, 4, 5, 6, 7, 9, 2019]\n"
     ]
    }
   ],
   "source": [
    "# Adding new value to list\n",
    "print( \"list_2 values: \", list_2)\n",
    "list_2.append(2019)\n",
    "print( \"list_2 values post append: \", list_2)\n"
   ]
  },
  {
   "cell_type": "code",
   "execution_count": 3,
   "id": "ef39a1d7",
   "metadata": {},
   "outputs": [
    {
     "name": "stdout",
     "output_type": "stream",
     "text": [
      "list_1 values:  ['Statistics', 'Programming', 2018, 2019, 2020, 2021, 2022, 2023]\n",
      "list_1 values post append:  ['Statistics', 'Programming', 2018, 2019, 2020, 2021, 2022, 2023, 2024]\n"
     ]
    }
   ],
   "source": [
    "# Adding new value to list\n",
    "print( \"list_1 values: \", list_1)\n",
    "list_1.append(2024)\n",
    "print (\"list_1 values post append: \", list_1)"
   ]
  },
  {
   "cell_type": "markdown",
   "id": "704c99a1",
   "metadata": {},
   "source": [
    "# Updating existing values of list"
   ]
  },
  {
   "cell_type": "code",
   "execution_count": 4,
   "id": "e5389c25",
   "metadata": {},
   "outputs": [
    {
     "name": "stdout",
     "output_type": "stream",
     "text": [
      "Values of list_2:  ['a', 'b', 1, 2, 3, 4, 5, 6, 7, 9, 2019]\n",
      "Value available at index 2 :  1\n",
      "New value available at index 2 :  2017\n"
     ]
    }
   ],
   "source": [
    "# Updating existing values of list\n",
    "print( \"Values of list_2: \", list_2)\n",
    "print( \"Value available at index 2 : \", list_2[2])\n",
    "list_2[2] = 2017;\n",
    "print (\"New value available at index 2 : \", list_2[2])"
   ]
  },
  {
   "cell_type": "markdown",
   "id": "bd38c084",
   "metadata": {},
   "source": [
    "# Deleting list elements"
   ]
  },
  {
   "cell_type": "code",
   "execution_count": 5,
   "id": "2ba2d6d2",
   "metadata": {},
   "outputs": [
    {
     "name": "stdout",
     "output_type": "stream",
     "text": [
      "list_2 values:  ['a', 'b', 2017, 2, 3, 4, 5, 6, 7, 9, 2019]\n",
      "After deleting value at index 2 :  ['a', 'b', 2017, 2, 3, 5, 6, 7, 9, 2019]\n"
     ]
    }
   ],
   "source": [
    "# Deleting list elements\n",
    "print (\"list_2 values: \", list_2)\n",
    "del list_2[5];\n",
    "print (\"After deleting value at index 2 : \", list_2)"
   ]
  },
  {
   "cell_type": "code",
   "execution_count": 6,
   "id": "aecf9826",
   "metadata": {},
   "outputs": [
    {
     "name": "stdout",
     "output_type": "stream",
     "text": [
      "list_1 values:  ['Statistics', 'Programming', 2018, 2019, 2020, 2021, 2022, 2023, 2024]\n",
      "After deleting value at index 2 :  ['Statistics', 'Programming', 2018, 2019, 2021, 2022, 2023, 2024]\n"
     ]
    }
   ],
   "source": [
    "# Deleting list elements\n",
    "print (\"list_1 values: \", list_1)\n",
    "del list_1[4];\n",
    "print (\"After deleting value at index 2 : \", list_1)"
   ]
  },
  {
   "cell_type": "markdown",
   "id": "0694c04b",
   "metadata": {},
   "source": [
    "# Basic operations on lists"
   ]
  },
  {
   "cell_type": "code",
   "execution_count": 7,
   "id": "a6b9c2dd",
   "metadata": {},
   "outputs": [
    {
     "name": "stdout",
     "output_type": "stream",
     "text": [
      "Length:  10\n",
      "Concatenation:  [1, 2, 3, 4, 5, 6]\n",
      "Repetition : ['Hello', 'Hello', 'Hello', 'Hello']\n",
      "Membership : True\n",
      "Iteration :\n",
      "1\n",
      "2\n",
      "3\n",
      "slicing : 9\n",
      "slicing range:  ['b', 2017, 2, 3, 5, 6, 7, 9, 2019]\n",
      "Compare two lists:  ([1, 2, 3, 4], [1, 2, 3])\n",
      "Max of list:  5\n",
      "Min of list:  1\n",
      "Count number of 2 in list:  2\n",
      "Extended : ['a', 'b', 2017, 2, 3, 5, 6, 7, 9, 2019, 'Statistics', 'Programming', 2018, 2019, 2021, 2022, 2023, 2024]\n",
      "Index for Programming :  11\n",
      "['a', 'b', 2017, 2, 3, 5, 6, 7, 9, 2019, 'Statistics', 'Programming', 2018, 2019, 2021, 2022, 2023, 2024]\n",
      "pop last item in list:  2024\n",
      "pop the item with index 2:  2017\n",
      "removed b from list:  ['a', 2, 3, 5, 6, 7, 9, 2019, 'Statistics', 'Programming', 2018, 2019, 2021, 2022, 2023]\n",
      "Reverse:  [2023, 2022, 2021, 2019, 2018, 'Programming', 'Statistics', 2019, 9, 7, 6, 5, 3, 2, 'a']\n",
      "Sort ascending:  [1, 1, 2, 3, 3, 4, 5, 5, 6, 9]\n",
      "Sort descending:  [9, 6, 5, 5, 4, 3, 3, 2, 1, 1]\n"
     ]
    }
   ],
   "source": [
    "# Basic Operations\n",
    "print (\"Length: \", len(list_2))\n",
    "print (\"Concatenation: \", [1,2,3] + [4, 5, 6])\n",
    "print (\"Repetition :\", ['Hello'] * 4)\n",
    "print (\"Membership :\", 3 in [1,2,3])\n",
    "print (\"Iteration :\")\n",
    "for x in [1,2,3]: print (x)\n",
    "\n",
    "# Negative sign will count from the right\n",
    "print (\"slicing :\", list_2[-2])\n",
    "# If you dont specify the end explicitly, all elements from the specified start index will be printed\n",
    "print (\"slicing range: \", list_2[1:])\n",
    "\n",
    "# Comparing elements of lists\n",
    "print (\"Compare two lists: \", ([1,2,3, 4], [1,2,3]))\n",
    "print (\"Max of list: \", max([1,2,3,4,5]))\n",
    "print (\"Min of list: \", min([1,2,3,4,5]))\n",
    "print (\"Count number of 2 in list: \", [1,1,2,3,4,5,].count(1))\n",
    "list_2.extend(list_1)\n",
    "print (\"Extended :\", list_2)\n",
    "print (\"Index for Programming : \", list_2.index( 'Programming'))\n",
    "print (list_2)\n",
    "print (\"pop last item in list: \", list_2.pop())\n",
    "print (\"pop the item with index 2: \", list_2.pop(2))\n",
    "list_2.remove('b') \n",
    "print (\"removed b from list: \", list_2)\n",
    "list_2.reverse()\n",
    "print (\"Reverse: \", list_2)\n",
    "list_2 = ['a', 'b','c',1,2,3]\n",
    "#creat new list\n",
    "list_3 = [3, 1, 4, 1, 5, 9, 2, 6, 5, 3]\n",
    "list_3.sort()\n",
    "print (\"Sort ascending: \", list_3)\n",
    "list_3.sort(reverse = True)\n",
    "print (\"Sort descending: \", list_3)\n"
   ]
  },
  {
   "cell_type": "code",
   "execution_count": null,
   "id": "95f360d6",
   "metadata": {},
   "outputs": [],
   "source": []
  }
 ],
 "metadata": {
  "kernelspec": {
   "display_name": "Python 3 (ipykernel)",
   "language": "python",
   "name": "python3"
  },
  "language_info": {
   "codemirror_mode": {
    "name": "ipython",
    "version": 3
   },
   "file_extension": ".py",
   "mimetype": "text/x-python",
   "name": "python",
   "nbconvert_exporter": "python",
   "pygments_lexer": "ipython3",
   "version": "3.9.13"
  }
 },
 "nbformat": 4,
 "nbformat_minor": 5
}
