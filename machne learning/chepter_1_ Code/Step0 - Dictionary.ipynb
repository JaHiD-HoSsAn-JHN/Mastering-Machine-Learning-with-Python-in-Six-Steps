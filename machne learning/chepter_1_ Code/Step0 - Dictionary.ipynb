{
 "cells": [
  {
   "cell_type": "markdown",
   "id": "601ee571",
   "metadata": {},
   "source": [
    "# Dictionary\n",
    "Each key is separated from its value by a colon (:), the items are separated by commas, and the whole thing is enclosed in curly braces. An empty dictionary without any items is written with just two curly braces, like this: {}. Keys are unique within a dictionary while values may not be. The values of a dictionary can be of any type, but the keys must be of an immutable data type such as strings, numbers, or tuples."
   ]
  },
  {
   "cell_type": "markdown",
   "id": "66e6cc8b",
   "metadata": {},
   "source": [
    "# Creating a dictionary"
   ]
  },
  {
   "cell_type": "code",
   "execution_count": 1,
   "id": "2d300a99",
   "metadata": {},
   "outputs": [
    {
     "name": "stdout",
     "output_type": "stream",
     "text": [
      "Sample dictionary: {'Name': 'jahid', 'Age': 21, 'class': 'Honours 1st Year'}\n"
     ]
    }
   ],
   "source": [
    "#Creating a dictionary\n",
    "dict ={'Name': 'jahid', 'Age':21, 'class': 'Honours 1st Year' }\n",
    "\n",
    "print('Sample dictionary:', dict)"
   ]
  },
  {
   "cell_type": "markdown",
   "id": "11d2c718",
   "metadata": {},
   "source": [
    "# Accessing items from dictionary"
   ]
  },
  {
   "cell_type": "code",
   "execution_count": 2,
   "id": "db80c783",
   "metadata": {},
   "outputs": [
    {
     "name": "stdout",
     "output_type": "stream",
     "text": [
      "Value of key Name, from sample dictionary: jahid\n"
     ]
    }
   ],
   "source": [
    "# Accessing items from dictionary\n",
    "\n",
    "print (\"Value of key Name, from sample dictionary:\", dict['Name'])"
   ]
  },
  {
   "cell_type": "markdown",
   "id": "7ffb1c75",
   "metadata": {},
   "source": [
    "# Deleting a dictionary"
   ]
  },
  {
   "cell_type": "code",
   "execution_count": 3,
   "id": "72e41035",
   "metadata": {},
   "outputs": [
    {
     "name": "stdout",
     "output_type": "stream",
     "text": [
      "Sample dictionary:  {'Name': 'Jahid', 'Age': 21, 'Class': 'Honours 1st Year'}\n",
      "Sample dictionary post deletion of item Name: {'Age': 21, 'Class': 'Honours 1st Year'}\n",
      "dict post dict.clear(): {}\n"
     ]
    }
   ],
   "source": [
    "# Deleting a dictionary\n",
    "dict = {'Name': 'Jahid', 'Age': 21, 'Class': 'Honours 1st Year' }\n",
    "print (\"Sample dictionary: \", dict)\n",
    "del dict['Name'] # Delete specific item\n",
    "print (\"Sample dictionary post deletion of item Name:\", dict)\n",
    "\n",
    "dict = {'Name': 'Jahid', 'Age': 21, 'Class': 'Honours 1st Year' }\n",
    "dict.clear() # Clear all the contents of dictionary\n",
    "print (\"dict post dict.clear():\", dict)\n",
    "\n",
    "dict = {'Name': 'Jahid', 'Age': 21, 'Class': 'Honours 1st Year' }\n",
    "del dict # Delete the dictionary"
   ]
  },
  {
   "cell_type": "markdown",
   "id": "8575f109",
   "metadata": {},
   "source": [
    "# Updating a dictionary"
   ]
  },
  {
   "cell_type": "code",
   "execution_count": 4,
   "id": "fb158b6b",
   "metadata": {},
   "outputs": [
    {
     "name": "stdout",
     "output_type": "stream",
     "text": [
      "Sample dictionary:  {'Name': 'Jahid', 'Age': 21, 'Class': 'Honours 1st Year'}\n",
      "Dictionary post age value update:  {'Name': 'Jahid', 'Age': 21.5, 'Class': 'Honours 1st Year'}\n"
     ]
    }
   ],
   "source": [
    "# Updating a dictionary\n",
    "\n",
    "dict = {'Name': 'Jahid', 'Age': 21, 'Class': 'Honours 1st Year'}\n",
    "print (\"Sample dictionary: \", dict)\n",
    "dict['Age'] = 21.5\n",
    "\n",
    "print (\"Dictionary post age value update: \", dict)"
   ]
  },
  {
   "cell_type": "markdown",
   "id": "8f9d5cd2",
   "metadata": {},
   "source": [
    "# Basic operations on dictionary"
   ]
  },
  {
   "cell_type": "code",
   "execution_count": 5,
   "id": "86c3fb33",
   "metadata": {},
   "outputs": [
    {
     "name": "stdout",
     "output_type": "stream",
     "text": [
      "Length of dict:  3\n",
      "Return Value: dict1 vs dict2 ({'name': 'Jahid', 'Age': 21}, {'name': 'Saim', 'Age': 19})\n",
      "Return Value: dict2 vs dict3 ({'name': 'Saim', 'Age': 19}, {'name': 'Mahedi', 'Age': 22})\n",
      "Return Value: dict1 vs dict4 ({'name': 'Jahid', 'Age': 21}, {'name': 'shadhin', 'Age': 22})\n",
      "Equivalent String:  {'Name': 'jahid', 'Age': 21}\n",
      "{'Name': 'jahid', 'Age': 21}\n",
      "New Dictionary:  {'name': None, 'age': None, 'sex': None}\n",
      "New Dictionary:  {'name': 10, 'age': 10, 'sex': 10}\n",
      "Value for Age:  21\n",
      "Value for Education:  First Grade\n",
      "Age exists  Age\n",
      "Sex exists  Sex\n",
      "dict items:  dict_items([('Name', 'Jahid'), ('Age', 21)])\n",
      "dict keys:  dict_keys(['Name', 'Age'])\n",
      "Value of dict:  dict_values(['Jahid', 21])\n",
      "Value for Age :  21\n",
      "Value for Sex:  None\n",
      "dict.update(dict2) =  {'Name': 'Jahid', 'Age': 21, 'Sex': 'male'}\n"
     ]
    }
   ],
   "source": [
    "# Basic operaions\n",
    "\n",
    "dict = {'Name': 'Jahid', 'Age': 21, 'class': 'Honours 1st Yyear'}\n",
    "print('Length of dict: ', len(dict))\n",
    "\n",
    "dict1 = {'name': 'Jahid', 'Age':21};\n",
    "dict2 = {'name': 'Saim', 'Age':19};\n",
    "dict3 = {'name': 'Mahedi', 'Age':22};\n",
    "dict4 = {'name': 'shadhin', 'Age':22};\n",
    "print('Return Value: dict1 vs dict2',  (dict1, dict2))\n",
    "print('Return Value: dict2 vs dict3',  (dict2, dict3))\n",
    "print('Return Value: dict1 vs dict4',  (dict1, dict4))\n",
    "\n",
    "#String representation of dictionary\n",
    "dict = {'Name': 'jahid', 'Age':21}\n",
    "print('Equivalent String: ', str(dict))\n",
    "\n",
    "#copy the dict\n",
    "dict1 = dict.copy()\n",
    "print(dict1)\n",
    "\n",
    "# Creat new dictionary with keys from tuple and values to set value\n",
    "seq = ('name', 'age', 'sex')\n",
    "\n",
    "dict = dict.fromkeys(seq)\n",
    "print (\"New Dictionary: \", str(dict))\n",
    "\n",
    "dict = dict.fromkeys(seq, 10)\n",
    "print (\"New Dictionary: \", str(dict))\n",
    "\n",
    "# Retrieve value for a given key\n",
    "dict = {'Name': 'Jahid', 'Age': 21};\n",
    "print (\"Value for Age: \", dict.get('Age'))\n",
    "# Since the key Education does not exist, the second argument will be returned\n",
    "print (\"Value for Education: \", dict.get('Education', \"First Grade\"))\n",
    "\n",
    "# Check if key in dictionary\n",
    "print (\"Age exists \", ('Age'))\n",
    "print (\"Sex exists \", ('Sex'))\n",
    "\n",
    "# Return items of dictionary\n",
    "print (\"dict items: \", dict.items())\n",
    "\n",
    "# Return items of keys\n",
    "print (\"dict keys: \", dict.keys())\n",
    "\n",
    "# return values of dict\n",
    "print (\"Value of dict: \",  dict.values())\n",
    "\n",
    "# if key does not exists, then the arguments will be added to dict and returned\n",
    "print (\"Value for Age : \", dict.setdefault('Age', None))\n",
    "print (\"Value for Sex: \", dict.setdefault('Sex', None))\n",
    "\n",
    "# Concatenate dicts\n",
    "dict = {'Name': 'Jahid', 'Age': 21}\n",
    "dict2 = {'Sex': 'male' }\n",
    "\n",
    "dict.update(dict2)\n",
    "print (\"dict.update(dict2) = \",  dict)\n",
    "\n"
   ]
  },
  {
   "cell_type": "code",
   "execution_count": null,
   "id": "c2f4b374",
   "metadata": {},
   "outputs": [],
   "source": []
  }
 ],
 "metadata": {
  "kernelspec": {
   "display_name": "Python 3 (ipykernel)",
   "language": "python",
   "name": "python3"
  },
  "language_info": {
   "codemirror_mode": {
    "name": "ipython",
    "version": 3
   },
   "file_extension": ".py",
   "mimetype": "text/x-python",
   "name": "python",
   "nbconvert_exporter": "python",
   "pygments_lexer": "ipython3",
   "version": "3.9.13"
  }
 },
 "nbformat": 4,
 "nbformat_minor": 5
}
