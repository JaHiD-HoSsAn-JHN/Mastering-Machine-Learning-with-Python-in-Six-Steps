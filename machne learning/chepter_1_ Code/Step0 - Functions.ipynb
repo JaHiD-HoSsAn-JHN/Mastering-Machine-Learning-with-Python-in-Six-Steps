{
 "cells": [
  {
   "cell_type": "markdown",
   "id": "f3e10fa3",
   "metadata": {},
   "source": [
    "# User Defined Functions\n",
    "A function is a block of organized, reusable code that is used to perform a single, related action. Functions provide better modularity for your application and a high degree of code reusing."
   ]
  },
  {
   "cell_type": "markdown",
   "id": "301d0da8",
   "metadata": {},
   "source": [
    "# function with arguments"
   ]
  },
  {
   "cell_type": "code",
   "execution_count": 2,
   "id": "03d7fbb8",
   "metadata": {},
   "outputs": [
    {
     "name": "stdout",
     "output_type": "stream",
     "text": [
      "40\n",
      "27\n"
     ]
    }
   ],
   "source": [
    "def sum_two_numbers(a, b = 20):\n",
    "    return a + b\n",
    "\n",
    "print( sum_two_numbers(20))\n",
    "print (sum_two_numbers(20, 7))"
   ]
  },
  {
   "cell_type": "markdown",
   "id": "4a4287f0",
   "metadata": {},
   "source": [
    "# Scope of variables\n",
    "The scope of a variable determines the portion of the program where you can access a particular identifier. There are two basic scopes of variables in Python\n",
    "\n",
    "* Global variables\n",
    "* Local variables"
   ]
  },
  {
   "cell_type": "code",
   "execution_count": 3,
   "id": "de3f6129",
   "metadata": {},
   "outputs": [
    {
     "name": "stdout",
     "output_type": "stream",
     "text": [
      "30\n"
     ]
    }
   ],
   "source": [
    "# Global variable\n",
    "a = 15 \n",
    "\n",
    "# Simple function to add two numbers\n",
    "def sum_two_numbers(b):\n",
    "    return a + b\n",
    "\n",
    "# Call the function and print result\n",
    "print (sum_two_numbers(15))"
   ]
  },
  {
   "cell_type": "markdown",
   "id": "5d945de2",
   "metadata": {},
   "source": [
    "# Default argument\n",
    "A default argument is an argument that assumes a default value if a value is not provided in the function call for that argument."
   ]
  },
  {
   "cell_type": "code",
   "execution_count": 4,
   "id": "a2b910e1",
   "metadata": {},
   "outputs": [
    {
     "name": "stdout",
     "output_type": "stream",
     "text": [
      "20\n",
      "15\n"
     ]
    }
   ],
   "source": [
    "# Simple function to add two number with b having default value of 10\n",
    "def sum_two_numbers(a, b = 10):\n",
    "    return a + b\n",
    "\n",
    "# Call the function and print result\n",
    "print (sum_two_numbers(10))\n",
    "\n",
    "print (sum_two_numbers(10, 5))"
   ]
  },
  {
   "cell_type": "markdown",
   "id": "7a09c66b",
   "metadata": {},
   "source": [
    "# Variable length arguments\n",
    "You may need to process a function for more arguments than you specified while defining the function. These arguments are called variable-lengtharguments and are not named in the function definition, unlike required and default arguments. The args and *kwargs is a common idiom to allow arbitrary number of arguments.\n",
    "\n",
    "The *args will give you all function parameters as a tuple:"
   ]
  },
  {
   "cell_type": "code",
   "execution_count": 5,
   "id": "06303c5a",
   "metadata": {},
   "outputs": [
    {
     "name": "stdout",
     "output_type": "stream",
     "text": [
      "1\n",
      "2\n",
      "3\n"
     ]
    }
   ],
   "source": [
    "# Simple function to loop through arguments and print them\n",
    "def foo(*args):\n",
    "    for a in args:\n",
    "        print( a)\n",
    "\n",
    "# Call the function\n",
    "foo(1,2,3) "
   ]
  },
  {
   "cell_type": "markdown",
   "id": "865cf6d1",
   "metadata": {},
   "source": [
    "The **kwargs will give you all keyword arguments except for those corresponding to a formal parameter as a dictionary"
   ]
  },
  {
   "cell_type": "code",
   "execution_count": 7,
   "id": "f172bb66",
   "metadata": {},
   "outputs": [
    {
     "name": "stdout",
     "output_type": "stream",
     "text": [
      "name Jahid\n",
      "age 21\n"
     ]
    }
   ],
   "source": [
    "# Simple function to loop through arguments and print them\n",
    "def foo(**kwargs):\n",
    "    for a in kwargs:\n",
    "        print(a, kwargs[a])\n",
    "        \n",
    "\n",
    "# Call the function\n",
    "foo(name='Jahid', age=21)"
   ]
  },
  {
   "cell_type": "code",
   "execution_count": null,
   "id": "229c272c",
   "metadata": {},
   "outputs": [],
   "source": []
  }
 ],
 "metadata": {
  "kernelspec": {
   "display_name": "Python 3 (ipykernel)",
   "language": "python",
   "name": "python3"
  },
  "language_info": {
   "codemirror_mode": {
    "name": "ipython",
    "version": 3
   },
   "file_extension": ".py",
   "mimetype": "text/x-python",
   "name": "python",
   "nbconvert_exporter": "python",
   "pygments_lexer": "ipython3",
   "version": "3.9.13"
  }
 },
 "nbformat": 4,
 "nbformat_minor": 5
}
