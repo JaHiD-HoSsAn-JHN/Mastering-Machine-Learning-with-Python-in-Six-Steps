{
 "cells": [
  {
   "cell_type": "markdown",
   "id": "a01ae97a",
   "metadata": {},
   "source": [
    "# My First Python program"
   ]
  },
  {
   "cell_type": "code",
   "execution_count": 1,
   "id": "cac0463e",
   "metadata": {},
   "outputs": [
    {
     "name": "stdout",
     "output_type": "stream",
     "text": [
      "Hello, Python World!\n"
     ]
    }
   ],
   "source": [
    "print( \"Hello, Python World!\")"
   ]
  },
  {
   "cell_type": "markdown",
   "id": "33f32c4e",
   "metadata": {},
   "source": [
    "# Script Mode Programming:\n",
    "You can put the above code into a notepad, save the file with extension .py (say script.py) and run it from command line interface using below command.\n",
    "\n",
    "python script.py"
   ]
  },
  {
   "cell_type": "markdown",
   "id": "a7036c0e",
   "metadata": {},
   "source": [
    "# Python Identifier:\n",
    "Identifier is the name given to entities like class, functions, variables etc. in Python. It helps differentiating one entity from another.\n",
    "\n",
    "Rules for writing identifiers in Python:\n",
    "\n",
    "• Identifiers can be a combination of letters in lowercase (a to z) or uppercase (A to Z) or digits (0 to 9) or an underscore (_). Names like myClass, var_1 and print_this_to_screen, all are valid example. • An identifier cannot start with a digit. 1variable is invalid, but variable1 is perfectly fine. • Keywords cannot be used as identifiers. • We cannot use special symbols like !, @, #, $, % etc. in our identifier"
   ]
  },
  {
   "cell_type": "code",
   "execution_count": 2,
   "id": "d0e3bd71",
   "metadata": {},
   "outputs": [
    {
     "ename": "SyntaxError",
     "evalue": "invalid syntax (4051444869.py, line 2)",
     "output_type": "error",
     "traceback": [
      "\u001b[1;36m  File \u001b[1;32m\"C:\\Users\\amt\\AppData\\Local\\Temp\\ipykernel_12052\\4051444869.py\"\u001b[1;36m, line \u001b[1;32m2\u001b[0m\n\u001b[1;33m    1variable = 'Identifier can not start with number'\u001b[0m\n\u001b[1;37m     ^\u001b[0m\n\u001b[1;31mSyntaxError\u001b[0m\u001b[1;31m:\u001b[0m invalid syntax\n"
     ]
    }
   ],
   "source": [
    "# variable name can not start with digit in front, 1variable will through syntax error\n",
    "1variable = 'Identifier can not start with number'"
   ]
  },
  {
   "cell_type": "code",
   "execution_count": null,
   "id": "2ce1eb95",
   "metadata": {},
   "outputs": [],
   "source": [
    "# using keywords as variable name will through error\n",
    "class = 1"
   ]
  },
  {
   "cell_type": "code",
   "execution_count": null,
   "id": "94e09b51",
   "metadata": {},
   "outputs": [],
   "source": [
    "# using special symbols as variable name will through error\n",
    "x@gmail = 'm.s@gmail.com'"
   ]
  },
  {
   "cell_type": "markdown",
   "id": "28c38c6d",
   "metadata": {},
   "source": [
    "# Basic Objec Types"
   ]
  },
  {
   "cell_type": "code",
   "execution_count": 3,
   "id": "b2279b59",
   "metadata": {},
   "outputs": [
    {
     "name": "stdout",
     "output_type": "stream",
     "text": [
      "<class 'NoneType'> None\n",
      "<class 'bool'> True\n",
      "<class 'int'> 1\n",
      "<class 'float'> 3.14\n",
      "<class 'float'> 3.14\n",
      "<class 'float'> inf\n",
      "<class 'float'> nan\n",
      "<class 'complex'> (2+8j)\n",
      "<class 'str'> this is a string\n",
      "<class 'str'> also me\n",
      "<class 'tuple'> (1, True, 'ML')\n",
      "<class 'list'> [1, True, 'ML']\n",
      "<class 'set'> {1, 2, 3, 4, 5}\n",
      "<class 'dict'> {'a': 'A', 2: 'AA', True: 1, False: 0}\n"
     ]
    }
   ],
   "source": [
    "none = None # singleton null object\n",
    "boolean = bool(True)\n",
    "integer = 1\n",
    "Long = 3.14\n",
    "\n",
    "# float\n",
    "Float = 3.14\n",
    "Float_inf = float('inf')\n",
    "Float_nan = float('nan')\n",
    "\n",
    "# complex object type, note the usage of letter j\n",
    "Complex = 2+8j \n",
    "\n",
    "# string can be enclosed in single or double quote\n",
    "string = 'this is a string'\n",
    "me_also_string = \"also me\"\n",
    "\n",
    "List = [1, True, 'ML'] # Values can be changed\n",
    "\n",
    "Tuple = (1, True, 'ML') # Values can not be changed\n",
    "\n",
    "Set = set([1,2,2,2,3,4,5,5]) # Duplicates will not be stored\n",
    "\n",
    "# Use a dictionary when you have a set of unique keys that map to values\n",
    "Dictionary = {'a':'A', 2:'AA', True:1, False:0}\n",
    "\n",
    "# lets print the object type and the value\n",
    "print (type(none), none)\n",
    "print (type(boolean), boolean)\n",
    "print (type(integer), integer)\n",
    "print (type(Long), Long)\n",
    "print (type(Float), Float)\n",
    "print (type(Float_inf), Float_inf)\n",
    "print (type(Float_nan), Float_nan)\n",
    "print (type(Complex), Complex)\n",
    "print (type(string), string)\n",
    "print (type(me_also_string), me_also_string)\n",
    "print (type(Tuple), Tuple)\n",
    "print (type(List), List)\n",
    "print (type(Set), Set)\n",
    "print (type(Dictionary), Dictionary)"
   ]
  },
  {
   "cell_type": "markdown",
   "id": "5f6ec83a",
   "metadata": {},
   "source": [
    "# Comments in Python\n",
    "* All characters after the # and up to the physical line end are part of the comment and the Python interpreter ignores them \n",
    "* Comments spanning more than one line are achieved by inserting a multi-line string (with \"\"\" as the delimiter one each end) that is not used in assignment or otherwise evaluated, but sits in between other statements"
   ]
  },
  {
   "cell_type": "code",
   "execution_count": null,
   "id": "563137b1",
   "metadata": {},
   "outputs": [],
   "source": [
    "# This is a comment in Python\n",
    "#print \"Hello Python World\" # This is also a comment in Python\n",
    "\n",
    "\"\"\" This is an example of a multi line\n",
    "comment that spans multiple lines.\n",
    "Everything that is in between is considered as comments\n",
    "\"\"\""
   ]
  },
  {
   "cell_type": "markdown",
   "id": "7067dae6",
   "metadata": {},
   "source": [
    "# Multiple statementson a single line"
   ]
  },
  {
   "cell_type": "code",
   "execution_count": null,
   "id": "1e27e5be",
   "metadata": {},
   "outputs": [],
   "source": [
    "import sys; x = 'foo'; print x"
   ]
  },
  {
   "cell_type": "markdown",
   "id": "cb653b92",
   "metadata": {},
   "source": [
    "# Code Blocks"
   ]
  },
  {
   "cell_type": "code",
   "execution_count": null,
   "id": "27a83027",
   "metadata": {},
   "outputs": [],
   "source": [
    "# Correct indentation\n",
    "print (\"Programming is an important skill for Data Science\")\n",
    "print (\"Statistics is a imporant skill for Data Science\")\n",
    "print (\"Business domain knowledge is a important skill for Data Science\")\n",
    "\n",
    "# Correct indentation, note that if statement here is an example of suites\n",
    "x = 1\n",
    "if x == 1:\n",
    "    print ('x has a value of 1')\n",
    "else:\n",
    "    print ('x does NOT have a value of 1')"
   ]
  },
  {
   "cell_type": "code",
   "execution_count": null,
   "id": "9ac57474",
   "metadata": {},
   "outputs": [],
   "source": [
    "# incorrect indentation, program will generate a syntax error \n",
    "# due to the space character inserted at the beginning of second line\n",
    "print (\"Programming is an important skill for Data Science\")\n",
    " print (\"Statistics is a important skill for Data Science\")\n",
    "print (\"Business domain knowledge is a important skill for Data Science\")\n",
    "\n",
    "# incorrect indentation, program will generate a syntax error\n",
    "# due to the wrong indentation in the else statement\n",
    "x = 1\n",
    "if x == 1:\n",
    "    print ('x has a value of 1')\n",
    "else:\n",
    " print ('x does NOT have a value of 1')"
   ]
  },
  {
   "cell_type": "markdown",
   "id": "be829866",
   "metadata": {},
   "source": [
    "# Milti-line statements"
   ]
  },
  {
   "cell_type": "code",
   "execution_count": 4,
   "id": "db6aa91e",
   "metadata": {},
   "outputs": [
    {
     "name": "stdout",
     "output_type": "stream",
     "text": [
      "x has a value of 1234\n",
      "y has a value of 121112\n"
     ]
    },
    {
     "ename": "NameError",
     "evalue": "name 'days' is not defined",
     "output_type": "error",
     "traceback": [
      "\u001b[1;31m---------------------------------------------------------------------------\u001b[0m",
      "\u001b[1;31mNameError\u001b[0m                                 Traceback (most recent call last)",
      "\u001b[1;32m~\\AppData\\Local\\Temp\\ipykernel_12052\\312204804.py\u001b[0m in \u001b[0;36m<module>\u001b[1;34m\u001b[0m\n\u001b[0;32m     15\u001b[0m \u001b[0mprint\u001b[0m \u001b[1;33m(\u001b[0m\u001b[1;34m'x has a value of'\u001b[0m\u001b[1;33m,\u001b[0m \u001b[0mx\u001b[0m\u001b[1;33m)\u001b[0m\u001b[1;33m\u001b[0m\u001b[1;33m\u001b[0m\u001b[0m\n\u001b[0;32m     16\u001b[0m \u001b[0mprint\u001b[0m \u001b[1;33m(\u001b[0m\u001b[1;34m'y has a value of'\u001b[0m\u001b[1;33m,\u001b[0m \u001b[0my\u001b[0m\u001b[1;33m)\u001b[0m\u001b[1;33m\u001b[0m\u001b[1;33m\u001b[0m\u001b[0m\n\u001b[1;32m---> 17\u001b[1;33m \u001b[0mprint\u001b[0m\u001b[1;33m(\u001b[0m \u001b[0mdays\u001b[0m\u001b[1;33m)\u001b[0m\u001b[1;33m\u001b[0m\u001b[1;33m\u001b[0m\u001b[0m\n\u001b[0m\u001b[0;32m     18\u001b[0m \u001b[0mprint\u001b[0m \u001b[1;33m(\u001b[0m\u001b[0mweekend\u001b[0m\u001b[1;33m)\u001b[0m\u001b[1;33m\u001b[0m\u001b[1;33m\u001b[0m\u001b[0m\n",
      "\u001b[1;31mNameError\u001b[0m: name 'days' is not defined"
     ]
    }
   ],
   "source": [
    "# Example of implicit line continuation\n",
    "x = ('1' + '2' + \n",
    "    '3' + '4')\n",
    "\n",
    "# Example of explicit line continuation\n",
    "y = '1' + '2' + \\\n",
    "    '11' + '12'\n",
    "    \n",
    "weekdays = ['Monday', 'Tuesday', 'Wednesday', \n",
    "            'Thursday', 'Friday']\n",
    "\n",
    "weekend = {'Saturday',\n",
    "           'Sunday'}\n",
    "\n",
    "print ('x has a value of', x)\n",
    "print ('y has a value of', y)\n",
    "print( days)\n",
    "print (weekend)"
   ]
  },
  {
   "cell_type": "markdown",
   "id": "2b778e0d",
   "metadata": {},
   "source": [
    "# Basic Operators\n",
    "*Arithmetic operators\n",
    "\n",
    "*Arithmetic operators are used to perform mathematical operations like addition, subtraction, multiplication etc."
   ]
  },
  {
   "cell_type": "code",
   "execution_count": null,
   "id": "c27d59da",
   "metadata": {},
   "outputs": [],
   "source": [
    "# Variable x holds 10 and variable y holds 5\n",
    "x = 10\n",
    "y = 5\n",
    "\n",
    "# Addition\n",
    "print \"Addition, x(10) + y(5) = \", x + y\n",
    "\n",
    "# Subtraction\n",
    "print \"Subtraction, x(10) - y(5) = \", x - y\n",
    "\n",
    "# Multiplication\n",
    "print \"Multiplication, x(10) * y(5) = \", x * y \n",
    "\n",
    "# Division\n",
    "print \"Division, x(10) / y(5) = \", x / y\n",
    "\n",
    "# Modulus\n",
    "print \"Modulus, x(10) % y(5) = \", x % y\n",
    "\n",
    "# Exponent\n",
    "print \"Exponent, x(10)**y(5) = \", x**y\n",
    "\n",
    "# Integer division rounded towards minus infinity\n",
    "print \"Floor Division, x(10)//y(5) = \", x//y"
   ]
  },
  {
   "cell_type": "markdown",
   "id": "83b0e9aa",
   "metadata": {},
   "source": [
    "# Comparison operators\n",
    "Comparison operators are used to compare values. It either returns True or False according to the condition."
   ]
  },
  {
   "cell_type": "code",
   "execution_count": null,
   "id": "5619e3a5",
   "metadata": {},
   "outputs": [],
   "source": [
    "# Variable x holds 10 and variable b holds 5\n",
    "# Equal check operation\n",
    "print \"Equal check, x(10) == y(5) \", x == y\n",
    "\n",
    "# Not Equal check operation\n",
    "print \"Not Equal check, x(10) != y(5) \", x != y\n",
    "\n",
    "# Not Equal check operation\n",
    "print \"Not Equal check, x(10) <> y(5) \", x <> y\n",
    "\n",
    "# Less than check operation\n",
    "print \"Less than check, x(10) < y(5) \", x < y\n",
    "\n",
    "# Greater check operation\n",
    "print \"Greater than check, x(10) > y(5) \", x > y\n",
    "\n",
    "# Less than or equal check operation\n",
    "print \"Less than or equal to check, x(10) <= y(5) \", x <= y\n",
    "\n",
    "# Greater than or equal to check operation\n",
    "print \"Greater than or equal to check, x(10) >= y(5) \", x >"
   ]
  },
  {
   "cell_type": "markdown",
   "id": "d2fe3875",
   "metadata": {},
   "source": [
    "# Assignment operations"
   ]
  },
  {
   "cell_type": "code",
   "execution_count": null,
   "id": "c150135f",
   "metadata": {},
   "outputs": [],
   "source": [
    "# Variable x holds 10 and variable y holds 5\n",
    "x = 5\n",
    "y = 10\n",
    "\n",
    "x += y\n",
    "print \"Value of a post x+=y is \", x \n",
    "\n",
    "x *= y\n",
    "print \"Value of a post x*=y is \", x \n",
    "\n",
    "x /= y \n",
    "print \"Value of a post x/=y is \", x \n",
    "\n",
    "x %= y\n",
    "print \"Value of a post x%=y is \", x\n",
    "\n",
    "x **= y\n",
    "print \"Value of x post x**=y is \", x\n",
    "\n",
    "x //= y\n",
    "print \"Value of a post x//=y is \", x"
   ]
  },
  {
   "cell_type": "markdown",
   "id": "2bf30ff1",
   "metadata": {},
   "source": [
    "# Bitwise operations\n",
    "Bitwise operators act on operands as if they were string of binary digits. As the name suggest, it operates bit by bit."
   ]
  },
  {
   "cell_type": "code",
   "execution_count": null,
   "id": "f2a9bdaf",
   "metadata": {},
   "outputs": [],
   "source": [
    "# Basic six bitwise operations\n",
    "# Let x = 10 (0000 1010 in binary) and y = 4 (0000 0100 in binary)\n",
    "x = 10\n",
    "y = 4\n",
    "\n",
    "print x >> y  # Right Shift\n",
    "print x << y  # Left Shift\n",
    "print x & y   # Bitwise AND\n",
    "print x | y   # Bitwise OR\n",
    "print x ^ y # Bitwise XOR\n",
    "print ~x    # Bitwise NOT"
   ]
  },
  {
   "cell_type": "code",
   "execution_count": null,
   "id": "2d03d71c",
   "metadata": {},
   "outputs": [],
   "source": [
    "Logical operators\n",
    "Logical operators are the and, or, not operators."
   ]
  },
  {
   "cell_type": "code",
   "execution_count": null,
   "id": "085ffe49",
   "metadata": {},
   "outputs": [],
   "source": [
    "x = True\n",
    "y = False\n",
    "print('x and y is',x and y)\n",
    "print('x or y is',x or y)\n",
    "print('not x is',not x)"
   ]
  },
  {
   "cell_type": "markdown",
   "id": "a2cb9fdd",
   "metadata": {},
   "source": [
    "# Membership operators\n",
    "in and not in are the membership operators in Python. They are used to test whether a value or variable is found in a sequence (string, list, tuple, set and dictionary). In a dictionary we can only test for presence of key, not the value"
   ]
  },
  {
   "cell_type": "code",
   "execution_count": null,
   "id": "7abbc455",
   "metadata": {},
   "outputs": [],
   "source": [
    "var1 = 'Hello world'          # string\n",
    "var1 = {1:'a',2:'b'}          # dictionary\n",
    "print('H' in var1)\n",
    "print('hello' not in var2)\n",
    "print(1 in var2)\n",
    "print('a' in var2)"
   ]
  },
  {
   "cell_type": "markdown",
   "id": "f8f52c2e",
   "metadata": {},
   "source": [
    "# Identity operatros\n",
    "is and is not are the identity operators in Python. They are used to check if two values (or variables) are located on the same part of the memory. Two variables that are equal do not imply that they are identical\n"
   ]
  },
  {
   "cell_type": "code",
   "execution_count": null,
   "id": "2b0ebc8c",
   "metadata": {},
   "outputs": [],
   "source": [
    " var1 = 5\n",
    "var1 = 5\n",
    "var2 = 'Hello'\n",
    "var2 = 'Hello'\n",
    "var3 = [1,2,3]\n",
    "var3 = [1,2,3]\n",
    "print(var1 is not var1)\n",
    "print(var2 is var2)\n",
    "print(var3 is var3)"
   ]
  },
  {
   "cell_type": "markdown",
   "id": "69c0f04e",
   "metadata": {},
   "source": [
    "# Control structures¶\n",
    "A control structure is the basic decision-making process in computing. It is a block of programming that analyzes variables and chooses a direction in which to go based on given parameters"
   ]
  },
  {
   "cell_type": "code",
   "execution_count": 7,
   "id": "6f56df16",
   "metadata": {},
   "outputs": [
    {
     "name": "stdout",
     "output_type": "stream",
     "text": [
      "-1\n",
      "the value of var is negative\n",
      "the value of var is negative\n"
     ]
    }
   ],
   "source": [
    "var = -1\n",
    "if var < 0:\n",
    "    print( var)\n",
    "    print(\"the value of var is negative\")\n",
    "    \n",
    "# If the suite of an if clause consists only of a single line, it may go on the same line as the header statement\n",
    "if ( var  == -1 ) :\n",
    "    print (\"the value of var is negative\")   "
   ]
  },
  {
   "cell_type": "code",
   "execution_count": null,
   "id": "f78676ef",
   "metadata": {},
   "outputs": [],
   "source": [
    "var = 1\n",
    "\n",
    "if var < 0:\n",
    "    print \"the value of var is negative\"\n",
    "    print var\n",
    "else:\n",
    "    print \"the value of var is positive\"\n",
    "    print var"
   ]
  },
  {
   "cell_type": "code",
   "execution_count": null,
   "id": "c85ef051",
   "metadata": {},
   "outputs": [],
   "source": [
    "score = 95\n",
    "\n",
    "if score >= 99:\n",
    "    print('A+')\n",
    "elif score >=75:\n",
    "    print('A')\n",
    "elif score >= 60:\n",
    "    print('c+')\n",
    "elif score >= 35:\n",
    "    print('B+')\n",
    "else:\n",
    "    print('F')"
   ]
  },
  {
   "cell_type": "code",
   "execution_count": null,
   "id": "d68e042e",
   "metadata": {},
   "outputs": [],
   "source": [
    "# First Example\n",
    "print( \"First Example\")\n",
    "for item in [1,2,3,4,5]:    \n",
    "    print( 'item :', item)\n",
    "\n",
    "# Second Example    \n",
    "print( \"Second Example\")\n",
    "letters = ['A', 'B', 'C']\n",
    "for letter in letters:        \n",
    "    print (' First loop letter :', letter)\n",
    "\n",
    "# Third Example - Iterating by sequency index\n",
    "print( \"Third Example\")\n",
    "for index in range(len(letters)):\n",
    "    print ('First loop letter :', letters[index])\n",
    "\n",
    "# Fourth Example - Using else statement\n",
    "print( \"Fourth Example\")\n",
    "for item in [1,2,3,4,5]:    \n",
    "    print ('item :', item )   \n",
    "else:\n",
    "    print( 'looping over item complete!')"
   ]
  },
  {
   "cell_type": "code",
   "execution_count": 8,
   "id": "770466de",
   "metadata": {},
   "outputs": [
    {
     "name": "stdout",
     "output_type": "stream",
     "text": [
      "The count is: 0\n",
      "The count is: 1\n",
      "The count is: 2\n",
      "The count is: 3\n",
      "The count is: 4\n"
     ]
    }
   ],
   "source": [
    "count = 0\n",
    "while (count < 5):\n",
    "    print ('The count is:', count)\n",
    "    count = count + 1"
   ]
  },
  {
   "cell_type": "code",
   "execution_count": 9,
   "id": "74d4f38b",
   "metadata": {},
   "outputs": [
    {
     "name": "stdout",
     "output_type": "stream",
     "text": [
      "0  is  less than 5\n",
      "1  is  less than 5\n",
      "2  is  less than 5\n",
      "3  is  less than 5\n",
      "4  is  less than 5\n",
      "5  is not less than 5\n"
     ]
    }
   ],
   "source": [
    "count = 0\n",
    "while count < 5:\n",
    "    print (count, \" is  less than 5\")\n",
    "    count = count + 1\n",
    "else:\n",
    "    print( count, \" is not less than 5\")"
   ]
  },
  {
   "cell_type": "markdown",
   "id": "f8169d8e",
   "metadata": {},
   "source": [
    "# Lists"
   ]
  },
  {
   "cell_type": "code",
   "execution_count": 24,
   "id": "90e46820",
   "metadata": {},
   "outputs": [
    {
     "name": "stdout",
     "output_type": "stream",
     "text": [
      "list_1[0]:  Statistics\n",
      "list2_[1:5]:  ['b', 1, 2, 3]\n",
      "['Statistics', 'Programming', 2016, 2017, 2018, 2019]\n",
      "Value available at index 2 :  2016\n",
      "New value available at index 2 :  2015\n",
      "After deleting value at index 2 :  ['Statistics', 'Programming', 2015, 2017, 2018]\n",
      "Length:  5\n",
      "Concatenation:  [1, 2, 3, 4, 5, 6]\n",
      "Repetition : ['Hello', 'Hello', 'Hello', 'Hello']\n",
      "Membership : True\n",
      "Iteration :\n",
      "1\n",
      "2\n",
      "3\n",
      "slicing : 2017\n",
      "slicing range:  ['Programming', 2015, 2017, 2018]\n",
      "Compare two lists:  ([1, 2, 3, 4], [1, 2, 3])\n",
      "Max of list:  5\n",
      "Min of list:  1\n",
      "Count number of 1 in list:  2\n",
      "Extended : ['Statistics', 'Programming', 2015, 2017, 2018, 'a', 'b', 1, 2, 3, 4, 5, 6, 7]\n",
      "Index for Programming :  1\n",
      "['Statistics', 'Programming', 2015, 2017, 2018, 'a', 'b', 1, 2, 3, 4, 5, 6, 7]\n",
      "pop last item in list:  7\n",
      "pop the item with index 2:  2015\n",
      "removed b from list:  ['Statistics', 'Programming', 2017, 2018, 'a', 1, 2, 3, 4, 5, 6]\n",
      "Reverse:  [6, 5, 4, 3, 2, 1, 'a', 2018, 2017, 'Programming', 'Statistics']\n"
     ]
    }
   ],
   "source": [
    "list_1 = ['Statistics', 'Programming', 2016, 2017, 2018];\n",
    "list_2 = ['a', 'b', 1, 2, 3, 4, 5, 6, 7 ];\n",
    "\n",
    "# Accessing values in lists\n",
    "print(\"list_1[0]: \", list_1[0])\n",
    "print(\"list2_[1:5]: \", list_2[1:5])\n",
    "\n",
    "# Adding new value to list\n",
    "list_1.append(2019)\n",
    "print(list_1)\n",
    "\n",
    "# Updating existing values of list\n",
    "print(\"Value available at index 2 : \", list_1[2])\n",
    "list_1[2] = 2015;\n",
    "print(\"New value available at index 2 : \", list_1[2])\n",
    "\n",
    "# Deleting list elements\n",
    "del list_1[5];\n",
    "print(\"After deleting value at index 2 : \", list_1)\n",
    "\n",
    "# Basic Operations\n",
    "print(\"Length: \", len(list_1))\n",
    "print(\"Concatenation: \", [1,2,3] + [4, 5, 6])\n",
    "print(\"Repetition :\", ['Hello'] * 4)\n",
    "print(\"Membership :\", 3 in [1,2,3])\n",
    "print(\"Iteration :\")\n",
    "for x in [1,2,3]:\n",
    "    print(x)\n",
    "\n",
    "# Negative sign will count from the right\n",
    "print(\"slicing :\", list_1[-2])\n",
    "# If you dont specify the end explicitly, all elements from the specified start index will be printed\n",
    "print(\"slicing range: \", list_1[1:])\n",
    "\n",
    "# Comparing elements of lists\n",
    "print(\"Compare two lists: \", ([1,2,3, 4], [1,2,3]))\n",
    "print(\"Max of list: \", max([1,2,3,4,5]))\n",
    "print(\"Min of list: \", min([1,2,3,4,5]))\n",
    "print(\"Count number of 1 in list: \", [1,1,2,3,4,5,].count(1))\n",
    "list_1.extend(list_2)\n",
    "print(\"Extended :\", list_1)\n",
    "print(\"Index for Programming : \", list_1.index( 'Programming'))\n",
    "print(list_1)\n",
    "print(\"pop last item in list: \", list_1.pop())\n",
    "print(\"pop the item with index 2: \", list_1.pop(2))\n",
    "list_1.remove('b') \n",
    "print(\"removed b from list: \", list_1)\n",
    "list_1.reverse()\n",
    "print(\"Reverse: \", list_1)\n",
    "list_1 = ['a', 'b', 'c', 1, 2, 3]\n",
    "str_list = [str(item) for item in list_1]  # convert all items to strings\n",
    "str_list.sort()\n",
    "#print(\"Sort ascending: \", list_1)\n",
    "#list_1.sort(reverse = True)\n",
    "#print(\"Sort descending: \", list_1)\n"
   ]
  },
  {
   "cell_type": "code",
   "execution_count": 25,
   "id": "ce2ddac8",
   "metadata": {},
   "outputs": [
    {
     "name": "stdout",
     "output_type": "stream",
     "text": [
      "('a', 'b', 'c', 'd', 1, 2, 3)\n",
      "()\n",
      "1\n"
     ]
    }
   ],
   "source": [
    "tuple = ('a','b','c','d',1,2,3)\n",
    "print(tuple)\n",
    "tuple = ()\n",
    "print(tuple)\n",
    "tuple = (1,)\n",
    "print(tuple[0])"
   ]
  },
  {
   "cell_type": "code",
   "execution_count": 34,
   "id": "9d794d82",
   "metadata": {},
   "outputs": [
    {
     "name": "stdout",
     "output_type": "stream",
     "text": [
      "Return Value : 0\n",
      "Return Value : 1\n",
      "Return Value : 1\n"
     ]
    }
   ],
   "source": [
    "dict1 = {'Name': 'jahid', 'Age': 21}\n",
    "dict2 = {'Name': 'jubayer', 'Age': 19}\n",
    "dict3 = {'Name': 'jubayer', 'Age': 19}\n",
    "dict4 = {'Name': 'jahid', 'Age': 21}\n",
    "\n",
    "print(\"Return Value : %d\" % (dict1 == dict2))\n",
    "print(\"Return Value : %d\" % (dict2 == dict3))\n",
    "print(\"Return Value : %d\" % (dict1 == dict4))"
   ]
  },
  {
   "cell_type": "code",
   "execution_count": 35,
   "id": "52c17a73",
   "metadata": {},
   "outputs": [
    {
     "name": "stdout",
     "output_type": "stream",
     "text": [
      "3\n"
     ]
    }
   ],
   "source": [
    "# simple function to add two numbers\n",
    "def sum_two_numbers(a, b):\n",
    "    return a + b\n",
    "\n",
    "# after this line x will hold the value 3!\n",
    "x = sum_two_numbers(1,2)\n",
    "print (x)"
   ]
  },
  {
   "cell_type": "code",
   "execution_count": 2,
   "id": "a3888348",
   "metadata": {},
   "outputs": [
    {
     "name": "stdout",
     "output_type": "stream",
     "text": [
      "20\n",
      "15\n"
     ]
    }
   ],
   "source": [
    "def sum_two_numbers(a, b = 10):\n",
    "    return a + b\n",
    "\n",
    "print( sum_two_numbers(10))\n",
    "print( sum_two_numbers(10, 5))"
   ]
  },
  {
   "cell_type": "code",
   "execution_count": 3,
   "id": "2a97b205",
   "metadata": {},
   "outputs": [
    {
     "name": "stdout",
     "output_type": "stream",
     "text": [
      "1\n",
      "2\n",
      "3\n"
     ]
    }
   ],
   "source": [
    "def foo(*args):\n",
    "    for a in args:\n",
    "        print (a)\n",
    "\n",
    "foo(1,2,3)        "
   ]
  },
  {
   "cell_type": "code",
   "execution_count": 5,
   "id": "7e6fb2f5",
   "metadata": {},
   "outputs": [
    {
     "name": "stdout",
     "output_type": "stream",
     "text": [
      "name jahid\n",
      "age 21\n"
     ]
    }
   ],
   "source": [
    "def bar(**kwargs):\n",
    "    for a in kwargs:\n",
    "        print(a, kwargs[a])\n",
    "        \n",
    "bar(name = 'jahid', age =21)"
   ]
  },
  {
   "cell_type": "code",
   "execution_count": 6,
   "id": "7b63509a",
   "metadata": {},
   "outputs": [],
   "source": [
    "import os"
   ]
  },
  {
   "cell_type": "code",
   "execution_count": 7,
   "id": "12ee7325",
   "metadata": {},
   "outputs": [
    {
     "name": "stdout",
     "output_type": "stream",
     "text": [
      "['DirEntry', 'F_OK', 'GenericAlias', 'Mapping', 'MutableMapping', 'O_APPEND', 'O_BINARY', 'O_CREAT', 'O_EXCL', 'O_NOINHERIT', 'O_RANDOM', 'O_RDONLY', 'O_RDWR', 'O_SEQUENTIAL', 'O_SHORT_LIVED', 'O_TEMPORARY', 'O_TEXT', 'O_TRUNC', 'O_WRONLY', 'P_DETACH', 'P_NOWAIT', 'P_NOWAITO', 'P_OVERLAY', 'P_WAIT', 'PathLike', 'R_OK', 'SEEK_CUR', 'SEEK_END', 'SEEK_SET', 'TMP_MAX', 'W_OK', 'X_OK', '_AddedDllDirectory', '_Environ', '__all__', '__builtins__', '__cached__', '__doc__', '__file__', '__loader__', '__name__', '__package__', '__spec__', '_check_methods', '_execvpe', '_exists', '_exit', '_fspath', '_get_exports_list', '_walk', '_wrap_close', 'abc', 'abort', 'access', 'add_dll_directory', 'altsep', 'chdir', 'chmod', 'close', 'closerange', 'cpu_count', 'curdir', 'defpath', 'device_encoding', 'devnull', 'dup', 'dup2', 'environ', 'error', 'execl', 'execle', 'execlp', 'execlpe', 'execv', 'execve', 'execvp', 'execvpe', 'extsep', 'fdopen', 'fsdecode', 'fsencode', 'fspath', 'fstat', 'fsync', 'ftruncate', 'get_exec_path', 'get_handle_inheritable', 'get_inheritable', 'get_terminal_size', 'getcwd', 'getcwdb', 'getenv', 'getlogin', 'getpid', 'getppid', 'isatty', 'kill', 'linesep', 'link', 'listdir', 'lseek', 'lstat', 'makedirs', 'mkdir', 'name', 'open', 'pardir', 'path', 'pathsep', 'pipe', 'popen', 'putenv', 'read', 'readlink', 'remove', 'removedirs', 'rename', 'renames', 'replace', 'rmdir', 'scandir', 'sep', 'set_handle_inheritable', 'set_inheritable', 'spawnl', 'spawnle', 'spawnv', 'spawnve', 'st', 'startfile', 'stat', 'stat_result', 'statvfs_result', 'strerror', 'supports_bytes_environ', 'supports_dir_fd', 'supports_effective_ids', 'supports_fd', 'supports_follow_symlinks', 'symlink', 'sys', 'system', 'terminal_size', 'times', 'times_result', 'truncate', 'umask', 'uname_result', 'unlink', 'unsetenv', 'urandom', 'utime', 'waitpid', 'waitstatus_to_exitcode', 'walk', 'write']\n"
     ]
    }
   ],
   "source": [
    "content = dir(os)\n",
    "print(content)"
   ]
  },
  {
   "cell_type": "code",
   "execution_count": null,
   "id": "59e87ecd",
   "metadata": {},
   "outputs": [],
   "source": []
  }
 ],
 "metadata": {
  "kernelspec": {
   "display_name": "Python 3 (ipykernel)",
   "language": "python",
   "name": "python3"
  },
  "language_info": {
   "codemirror_mode": {
    "name": "ipython",
    "version": 3
   },
   "file_extension": ".py",
   "mimetype": "text/x-python",
   "name": "python",
   "nbconvert_exporter": "python",
   "pygments_lexer": "ipython3",
   "version": "3.9.13"
  }
 },
 "nbformat": 4,
 "nbformat_minor": 5
}
