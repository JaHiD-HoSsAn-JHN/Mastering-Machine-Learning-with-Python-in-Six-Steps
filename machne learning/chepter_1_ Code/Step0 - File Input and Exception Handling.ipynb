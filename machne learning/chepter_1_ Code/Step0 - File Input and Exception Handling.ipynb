{
 "cells": [
  {
   "cell_type": "markdown",
   "id": "2f2bb284",
   "metadata": {},
   "source": [
    "# File Input/Output\n",
    "File is a named location on disk to store related information. When we want to read from or write to a file we need to open it first. When we are done, it needs to be closed, so that resources that are tied with the file are freed.\n",
    "\n",
    "So in Python, a file operation takes place in the following order.\n",
    "\n",
    "1.Open a file\n",
    "2.Read or write (perform operation)\n",
    "3.Close the file\n"
   ]
  },
  {
   "cell_type": "code",
   "execution_count": 1,
   "id": "1a4ccc9c",
   "metadata": {},
   "outputs": [
    {
     "name": "stdout",
     "output_type": "stream",
     "text": [
      "Enter a number: 5\n",
      "<class 'str'>\n"
     ]
    }
   ],
   "source": [
    "# Read input from console, input will read numeric values and throw error if a string value entered\n",
    "num = input(\"Enter a number: \")\n",
    "print(type(num))"
   ]
  },
  {
   "cell_type": "markdown",
   "id": "ee99e116",
   "metadata": {},
   "source": [
    "# Writing to a file"
   ]
  },
  {
   "cell_type": "code",
   "execution_count": 2,
   "id": "d5b46c45",
   "metadata": {},
   "outputs": [],
   "source": [
    "# Set working directory\n",
    "import os"
   ]
  },
  {
   "cell_type": "code",
   "execution_count": 3,
   "id": "23b48601",
   "metadata": {},
   "outputs": [],
   "source": [
    "# Set working directory\n",
    "os.chdir('C:\\\\Users\\\\amt\\\\Documents')\n",
    "\n",
    "# Below code will create a file named vechicles and add the items. \\n is a newline character\n",
    "vechicles = ['scooter\\n', 'bike\\n', 'car\\n']\n",
    "f = open('vechicles.txt', 'w')\n",
    "f.writelines(vechicles)\n",
    "f.close()"
   ]
  },
  {
   "cell_type": "markdown",
   "id": "85479fbb",
   "metadata": {},
   "source": [
    "# Reading from file"
   ]
  },
  {
   "cell_type": "code",
   "execution_count": 4,
   "id": "fbd93bfe",
   "metadata": {},
   "outputs": [
    {
     "name": "stdout",
     "output_type": "stream",
     "text": [
      "['scooter\\n', 'bike\\n', 'car\\n']\n"
     ]
    }
   ],
   "source": [
    "f = open('vechicles.txt')\n",
    "print (f.readlines())\n",
    "f.close()"
   ]
  },
  {
   "cell_type": "markdown",
   "id": "bd6f7178",
   "metadata": {},
   "source": [
    "# Exception Handling\n",
    "An exception is an error that happens during the execution of a program that disrupts the normal flow of the program's instructions. When a Python script encounters a situation that it cannot cope with, it raises an exception. Your program should be designed to handle both expected and unexpected errors."
   ]
  },
  {
   "cell_type": "markdown",
   "id": "c5b7f124",
   "metadata": {},
   "source": [
    "# try and except\n",
    "A critical operation which can raise exception is placed inside the try clause and the code that handles exception is written in except clause"
   ]
  },
  {
   "cell_type": "code",
   "execution_count": 5,
   "id": "a3ea0126",
   "metadata": {},
   "outputs": [
    {
     "name": "stdout",
     "output_type": "stream",
     "text": [
      "Result of a/b:  1.0\n"
     ]
    }
   ],
   "source": [
    "import sys\n",
    "\n",
    "try:\n",
    "    a = 1\n",
    "    b = 1\n",
    "    print (\"Result of a/b: \", a / b)\n",
    "except (ZeroDivisionError):\n",
    "    print(\"Can't divide by zero\")\n",
    "except (TypeError):\n",
    "    print(\"Wrong data type, division is allowed on numeric data type only\")\n",
    "except:\n",
    "    print (\"Unexpected error occurred\", '\\n', \"Error Type: \", sys.exc_info()[0], '\\n', \"Error Msg: \", sys.exc_info()[1])"
   ]
  },
  {
   "cell_type": "code",
   "execution_count": 6,
   "id": "2ff177f7",
   "metadata": {},
   "outputs": [
    {
     "name": "stdout",
     "output_type": "stream",
     "text": [
      "Can't divide by zero\n"
     ]
    }
   ],
   "source": [
    "try:\n",
    "    a = 1\n",
    "    b = 0\n",
    "    print(a / b)\n",
    "except (ZeroDivisionError):\n",
    "    print(\"Can't divide by zero\")\n",
    "except (TypeError):\n",
    "    print(\"Wrong data type, division is allowed on numeric data type only\")\n",
    "except:\n",
    "    print (\"Unexpected error occurred\", '\\n', \"Error Type: \", sys.exc_info()[0], '\\n', \"Error Msg: \", sys.exc_info()[1])"
   ]
  },
  {
   "cell_type": "markdown",
   "id": "5e083ce2",
   "metadata": {},
   "source": [
    "# Finally\n",
    "This is an optional clause which is intended to define clean-up actions that must be executed under all circumstances."
   ]
  },
  {
   "cell_type": "code",
   "execution_count": 7,
   "id": "1fec4833",
   "metadata": {},
   "outputs": [
    {
     "name": "stdout",
     "output_type": "stream",
     "text": [
      "scooter\n",
      "\n",
      "Unexpected error occurred \n",
      " Error Type:  <class 'NameError'> \n",
      " Error Msg:  name 's' is not defined\n",
      "file has been closed\n"
     ]
    }
   ],
   "source": [
    "try:\n",
    "    f = open('C:\\\\Users\\\\amt\\\\Documents\\\\vechicles.txt')\n",
    "    print (f.readline())\n",
    "    i = int(s.strip())\n",
    "except IOError as e:\n",
    "    print (\"I/O error({0}): {1}\".format(e.errno, e.strerror))\n",
    "except ValueError:\n",
    "    print (\"Could not convert data to an integer.\")\n",
    "except:\n",
    "    print (\"Unexpected error occurred\", '\\n', \"Error Type: \", sys.exc_info()[0], '\\n', \"Error Msg: \", sys.exc_info()[1])\n",
    "finally:\n",
    "    f.close()\n",
    "    print (\"file has been closed\")"
   ]
  },
  {
   "cell_type": "code",
   "execution_count": null,
   "id": "9bd9aa5d",
   "metadata": {},
   "outputs": [],
   "source": []
  }
 ],
 "metadata": {
  "kernelspec": {
   "display_name": "Python 3 (ipykernel)",
   "language": "python",
   "name": "python3"
  },
  "language_info": {
   "codemirror_mode": {
    "name": "ipython",
    "version": 3
   },
   "file_extension": ".py",
   "mimetype": "text/x-python",
   "name": "python",
   "nbconvert_exporter": "python",
   "pygments_lexer": "ipython3",
   "version": "3.9.13"
  }
 },
 "nbformat": 4,
 "nbformat_minor": 5
}
