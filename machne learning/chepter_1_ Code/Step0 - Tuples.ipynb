{
 "cells": [
  {
   "cell_type": "markdown",
   "id": "e28f6867",
   "metadata": {},
   "source": [
    "# Tuples\n",
    "A tuple is a sequence of immutable Python objects. Tuples are sequences, just like lists. The differences between tuples and lists are, the tuples cannot be changed unlike lists and tuples use parentheses, whereas lists use square brackets"
   ]
  },
  {
   "cell_type": "code",
   "execution_count": 1,
   "id": "2cb71b19",
   "metadata": {},
   "outputs": [
    {
     "name": "stdout",
     "output_type": "stream",
     "text": [
      "Empty Tuple:  ()\n",
      "Tuple with single item:  (1,)\n",
      "Sample Tuple : ('a', 'b', 'c', 'd', 1, 2, 3)\n"
     ]
    }
   ],
   "source": [
    "# Creating a tuple\n",
    "\n",
    "Tuple = ()\n",
    "print (\"Empty Tuple: \", Tuple)\n",
    "\n",
    "Tuple = (1,)\n",
    "print (\"Tuple with single item: \", Tuple)\n",
    "\n",
    "Tuple = ('a','b','c','d',1,2,3)\n",
    "print (\"Sample Tuple :\", Tuple)"
   ]
  },
  {
   "cell_type": "code",
   "execution_count": 2,
   "id": "240f5a27",
   "metadata": {},
   "outputs": [
    {
     "name": "stdout",
     "output_type": "stream",
     "text": [
      "3rd item of Tuple: c\n",
      "First 3 items of Tuple ('a', 'b')\n"
     ]
    }
   ],
   "source": [
    "# Accessing items in tuple\n",
    "\n",
    "print (\"3rd item of Tuple:\", Tuple[2])\n",
    "print (\"First 3 items of Tuple\", Tuple[0:2])"
   ]
  },
  {
   "cell_type": "code",
   "execution_count": 3,
   "id": "7010c0a1",
   "metadata": {},
   "outputs": [
    {
     "name": "stdout",
     "output_type": "stream",
     "text": [
      "Sample Tuple: \n"
     ]
    },
    {
     "ename": "NameError",
     "evalue": "name 'Tuple' is not defined",
     "output_type": "error",
     "traceback": [
      "\u001b[1;31m---------------------------------------------------------------------------\u001b[0m",
      "\u001b[1;31mNameError\u001b[0m                                 Traceback (most recent call last)",
      "\u001b[1;32m~\\AppData\\Local\\Temp\\ipykernel_9260\\2504461964.py\u001b[0m in \u001b[0;36m<module>\u001b[1;34m\u001b[0m\n\u001b[0;32m      4\u001b[0m \u001b[0mprint\u001b[0m \u001b[1;33m(\u001b[0m\u001b[1;34m\"Sample Tuple: \"\u001b[0m\u001b[1;33m,\u001b[0m\u001b[1;33m)\u001b[0m\u001b[1;33m\u001b[0m\u001b[1;33m\u001b[0m\u001b[0m\n\u001b[0;32m      5\u001b[0m \u001b[1;32mdel\u001b[0m \u001b[0mTuple\u001b[0m\u001b[1;33m\u001b[0m\u001b[1;33m\u001b[0m\u001b[0m\n\u001b[1;32m----> 6\u001b[1;33m \u001b[0mprint\u001b[0m \u001b[1;33m(\u001b[0m\u001b[0mTuple\u001b[0m\u001b[1;33m)\u001b[0m \u001b[1;31m# Will throw an error message as the tuple does not ex\u001b[0m\u001b[1;33m\u001b[0m\u001b[1;33m\u001b[0m\u001b[0m\n\u001b[0m",
      "\u001b[1;31mNameError\u001b[0m: name 'Tuple' is not defined"
     ]
    }
   ],
   "source": [
    "# Deleting tuple\n",
    "\n",
    "Tuple = ('a','b','c','d',1,2,3)\n",
    "print (\"Sample Tuple: \",) \n",
    "del Tuple\n",
    "print (Tuple) # Will throw an error message as the tuple does not ex"
   ]
  },
  {
   "cell_type": "code",
   "execution_count": 4,
   "id": "3f7cdf8c",
   "metadata": {},
   "outputs": [
    {
     "name": "stdout",
     "output_type": "stream",
     "text": [
      "Length of Tuple:  7\n",
      "Concatenated Tuple:  ('a', 'b', 'c', 'd', 1, 2, 3, 7, 8, 9)\n",
      "Repetition:  (1, 'a', 2, 'b', 1, 'a', 2, 'b', 1, 'a', 2, 'b')\n",
      "Membership check:  True\n",
      "1\n",
      "2\n",
      "3\n",
      "Negative sign will retrieve item from right:  8\n",
      "Sliced Tuple [2:]:  ('c', 'd', 1, 2, 3, 7, 8, 9)\n",
      "Comparing tuples (1,2,3) and (1,2,3,4):  ((1, 2, 3), (1, 2, 3, 4))\n",
      "Comparing tuples (1,2,3,4) and (1,2,3):  ((1, 2, 3, 4), (1, 2, 3))\n",
      "Max of the Tuple (1,2,3,4,5,6,7,8,9,10):  10\n",
      "Min of the Tuple (1,2,3,4,5,6,7,8,9,10):  1\n",
      "List [1,2,3,4] converted to tuple:  <class 'tuple'>\n"
     ]
    }
   ],
   "source": [
    "# Basic Tuple operations\n",
    "Tuple = ('a', 'b', 'c', 'd', 1, 2, 3)\n",
    "\n",
    "print(\"Length of Tuple: \", len(Tuple))\n",
    "\n",
    "Tuple_Concat = Tuple + (7, 8, 9)\n",
    "print(\"Concatenated Tuple: \", Tuple_Concat)\n",
    "\n",
    "print(\"Repetition: \", (1, 'a', 2, 'b') * 3)\n",
    "print(\"Membership check: \", 3 in (1, 2, 3))\n",
    "\n",
    "# Iteration\n",
    "for x in (1, 2, 3):\n",
    "    print(x)\n",
    "\n",
    "print(\"Negative sign will retrieve item from right: \", Tuple_Concat[-2])\n",
    "print(\"Sliced Tuple [2:]: \", Tuple_Concat[2:])\n",
    "\n",
    "# Comparing two tuples\n",
    "print(\"Comparing tuples (1,2,3) and (1,2,3,4): \", ((1, 2, 3), (1, 2, 3, 4)))\n",
    "print(\"Comparing tuples (1,2,3,4) and (1,2,3): \", ((1, 2, 3, 4), (1, 2, 3)))\n",
    "\n",
    "# Find max\n",
    "print(\"Max of the Tuple (1,2,3,4,5,6,7,8,9,10): \", max((1, 2, 3, 4, 5, 6, 7, 8, 9, 10)))\n",
    "print(\"Min of the Tuple (1,2,3,4,5,6,7,8,9,10): \", min((1, 2, 3, 4, 5, 6, 7, 8, 9, 10)))\n",
    "print(\"List [1,2,3,4] converted to tuple: \", type(tuple([1, 2, 3, 4])))\n"
   ]
  },
  {
   "cell_type": "code",
   "execution_count": null,
   "id": "b2eefb16",
   "metadata": {},
   "outputs": [],
   "source": []
  }
 ],
 "metadata": {
  "kernelspec": {
   "display_name": "Python 3 (ipykernel)",
   "language": "python",
   "name": "python3"
  },
  "language_info": {
   "codemirror_mode": {
    "name": "ipython",
    "version": 3
   },
   "file_extension": ".py",
   "mimetype": "text/x-python",
   "name": "python",
   "nbconvert_exporter": "python",
   "pygments_lexer": "ipython3",
   "version": "3.9.13"
  }
 },
 "nbformat": 4,
 "nbformat_minor": 5
}
